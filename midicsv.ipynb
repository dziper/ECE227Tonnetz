{
 "cells": [
  {
   "cell_type": "code",
   "execution_count": null,
   "metadata": {},
   "outputs": [],
   "source": [
    "#!pip3 install py-midicsv"
   ]
  },
  {
   "cell_type": "markdown",
   "metadata": {},
   "source": [
    "A full explanation of the `midicsv` file format can be found in: https://github.com/timwedde/py_midicsv/blob/master/doc/file-format.md"
   ]
  },
  {
   "cell_type": "code",
   "execution_count": 11,
   "metadata": {},
   "outputs": [],
   "source": [
    "import py_midicsv as pm\n",
    "import csv"
   ]
  },
  {
   "cell_type": "code",
   "execution_count": 14,
   "metadata": {},
   "outputs": [],
   "source": [
    "def read_csv_to_strings(file_path):\n",
    "    lines = []\n",
    "    with open(file_path, mode='r', newline='') as file:\n",
    "        csv_reader = csv.reader(file)\n",
    "        for row in csv_reader:\n",
    "            # Join each row's elements with commas to form a single string\n",
    "            line = ','.join(row)\n",
    "            lines.append(line)\n",
    "    return lines\n",
    "\n",
    "def midi_to_csv(midi_file_path, save_path):\n",
    "    # Load the MIDI file and parse it into CSV format\n",
    "    csv_string = pm.midi_to_csv(midi_file_path)\n",
    "\n",
    "    # Write into csv file\n",
    "    with open(save_path, \"w\") as f:\n",
    "        f.writelines(csv_string)\n",
    "        \n",
    "        \n",
    "def csv_to_midi(csv_file_path, save_path: str):\n",
    "    # Parse the CSV output of the previous command back into a MIDI file\n",
    "    csv_strings = read_csv_to_strings(csv_file_path)\n",
    "    midi_object = pm.csv_to_midi(csv_strings)\n",
    "\n",
    "    # Save the parsed MIDI file to disk\n",
    "    with open(save_path, \"wb\") as output_file:\n",
    "        midi_writer = pm.FileWriter(output_file)\n",
    "        midi_writer.write(midi_object)"
   ]
  },
  {
   "cell_type": "code",
   "execution_count": 15,
   "metadata": {},
   "outputs": [],
   "source": [
    "csv_file_path = 'csvs/test.csv'\n",
    "save_midi_path = 'midis/test.mid'\n",
    "csv_to_midi(csv_file_path, save_midi_path)"
   ]
  },
  {
   "cell_type": "code",
   "execution_count": null,
   "metadata": {},
   "outputs": [],
   "source": []
  }
 ],
 "metadata": {
  "kernelspec": {
   "display_name": "Python 3",
   "language": "python",
   "name": "python3"
  },
  "language_info": {
   "codemirror_mode": {
    "name": "ipython",
    "version": 3
   },
   "file_extension": ".py",
   "mimetype": "text/x-python",
   "name": "python",
   "nbconvert_exporter": "python",
   "pygments_lexer": "ipython3",
   "version": "3.11.5"
  }
 },
 "nbformat": 4,
 "nbformat_minor": 2
}
