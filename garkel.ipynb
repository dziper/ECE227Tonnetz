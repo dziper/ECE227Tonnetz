{
 "cells": [
  {
   "cell_type": "markdown",
   "metadata": {},
   "source": [
    "## Grakel\n",
    "https://ysig.github.io/GraKeL/0.1a8/documentation/introduction.html\n",
    "\n",
    "A graph kernel is a function that measures the similarity of two graphs."
   ]
  },
  {
   "cell_type": "code",
   "execution_count": 15,
   "metadata": {},
   "outputs": [],
   "source": [
    "import grakel\n",
    "from grakel import Graph\n",
    "\n",
    "\n",
    "# Use edge list to create a graph, it's actually double-directed\n",
    "edges = {1: [2, 3], 2: [1], 3: [1]}\n",
    "G = Graph(edges)\n",
    "\n",
    "# Use adjacency matrix to create a traph, we can use list, numpy array, or Scipy sparse matrix\n",
    "adj = [[0, 1, 1], [1, 0, 0], [1, 0, 0]]\n",
    "G = Graph(adj)\n"
   ]
  },
  {
   "cell_type": "code",
   "execution_count": 5,
   "metadata": {},
   "outputs": [],
   "source": [
    "# Directed graph\n",
    "\n",
    "# list\n",
    "edges = {1: [3], 2: [1], 3: [1]}\n",
    "DG = Graph(edges)\n",
    "\n",
    "edges = [(1, 3), (2, 1), (3, 1)]\n",
    "DG = Graph(edges)\n",
    "\n",
    "# adjacency matrix\n",
    "adj = [[0, 0, 1], [1, 0, 0], [1, 0, 0]]\n",
    "G = Graph(adj)"
   ]
  },
  {
   "cell_type": "code",
   "execution_count": null,
   "metadata": {},
   "outputs": [],
   "source": [
    "# Weighted edges with different representention\n",
    "edges = {1: {2: 0.5, 3: 0.2}, 2: {1: 0.5}, 3: {1: 0.2}}\n",
    "edges = {(1, 2): 0.5, (1, 3): 0.2, (2, 1): 0.5, (3, 1): 0.2}\n",
    "edges = [(1, 2, 0.5), (1, 3, 0.2), (2, 1, 0.5), (3, 1, 0.2)]\n",
    "G = Graph(edges)\n",
    "\n",
    "adj = [[0, 0.5, 0.2], [0.5, 0, 0], [0.2, 0, 0]]\n",
    "G = Graph(adj)"
   ]
  },
  {
   "cell_type": "code",
   "execution_count": 9,
   "metadata": {},
   "outputs": [],
   "source": [
    "# We can have labels or attributes for nodes\n",
    "edges = {1: [2, 3], 2: [1], 3: [1]}\n",
    "node_labels = {1: 'a', 2: 'b', 3: 'a'}\n",
    "node_attributes = {1: [1.2, 0.5], 2: [2.8, -0.6], 3: [0.7, 1.1]}\n",
    "G = Graph(edges, node_labels=node_labels)\n",
    "G = Graph(edges, node_labels=node_attributes)\n",
    "\n",
    "# Labels for edges\n",
    "edges = {(1, 2): 1, (1, 3): 1, (2, 1): 1, (3, 1): 1}\n",
    "edge_labels = {(1, 2): 'a', (1, 3): 'b', (2, 1): 'a', (3, 1): 'b'}\n",
    "G = Graph(edges, edge_labels=edge_labels)"
   ]
  },
  {
   "cell_type": "markdown",
   "metadata": {},
   "source": [
    "### Initializing a Graph Kernel\n",
    "https://ysig.github.io/GraKeL/0.1a8/documentation/core_concepts.html#the-grakel-kernel-class\n",
    "\n",
    "All graph kernels inherit from this `grakel.Kernel` class.\n",
    "A graph kernel is a function `k` between two graphs. \n",
    "\n",
    "One of the most popular graph kernels is the shortest path kernel which counts the number of shortest paths of equal length in two graphs"
   ]
  },
  {
   "cell_type": "code",
   "execution_count": 10,
   "metadata": {},
   "outputs": [],
   "source": [
    "from grakel import GraphKernel\n",
    "sp_kernel = GraphKernel(kernel=\"shortest_path\")\n",
    "\n",
    "# or\n",
    "\n",
    "from grakel.kernels import ShortestPath\n",
    "sp_kernel = ShortestPath()"
   ]
  },
  {
   "cell_type": "markdown",
   "metadata": {},
   "source": [
    "### Initializing a Framework\n",
    "The most popular of all frameworks is perhaps the Weisfeiler-Lehman framework. The Weisfeiler-Lehman framework works on top of some graph kernel, known as the base kernel. We can initialize the well-known Weisfeiler-Lehman subtree kernel (Weisfeiler-Lehman framework on top of the vertex histogram kernel) as follows:"
   ]
  },
  {
   "cell_type": "code",
   "execution_count": 11,
   "metadata": {},
   "outputs": [],
   "source": [
    "from grakel.kernels import WeisfeilerLehman, VertexHistogram\n",
    "wl_kernel = WeisfeilerLehman(base_graph_kernel=VertexHistogram)"
   ]
  }
 ],
 "metadata": {
  "kernelspec": {
   "display_name": "Python 3",
   "language": "python",
   "name": "python3"
  },
  "language_info": {
   "codemirror_mode": {
    "name": "ipython",
    "version": 3
   },
   "file_extension": ".py",
   "mimetype": "text/x-python",
   "name": "python",
   "nbconvert_exporter": "python",
   "pygments_lexer": "ipython3",
   "version": "3.11.5"
  }
 },
 "nbformat": 4,
 "nbformat_minor": 2
}
