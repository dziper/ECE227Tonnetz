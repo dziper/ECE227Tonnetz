{
 "cells": [
  {
   "cell_type": "code",
   "execution_count": 75,
   "metadata": {},
   "outputs": [],
   "source": [
    "import mido"
   ]
  },
  {
   "cell_type": "code",
   "execution_count": 68,
   "metadata": {},
   "outputs": [],
   "source": [
    "def get_midi_obj(midi_file: str):\n",
    "    return mido.MidiFile(midi_file, clip=True)"
   ]
  },
  {
   "cell_type": "code",
   "execution_count": 69,
   "metadata": {},
   "outputs": [],
   "source": [
    "midi_file = 'midis/TLS-0.mid'\n",
    "mid = get_midi_obj(midi_file)"
   ]
  },
  {
   "cell_type": "code",
   "execution_count": 70,
   "metadata": {},
   "outputs": [
    {
     "data": {
      "text/plain": [
       "2"
      ]
     },
     "execution_count": 70,
     "metadata": {},
     "output_type": "execute_result"
    }
   ],
   "source": [
    "len(mid.tracks) # Meta and Measure tracks"
   ]
  },
  {
   "cell_type": "markdown",
   "metadata": {},
   "source": [
    "### Parse time signature and tempo events:\n",
    "Time signatures and tempos can affect how measures are calculated. You need to extract these from the MIDI file."
   ]
  },
  {
   "cell_type": "code",
   "execution_count": 61,
   "metadata": {},
   "outputs": [],
   "source": [
    "def get_time_signatures(midi_obj) -> list:\n",
    "    time_signatures = []\n",
    "    for track in midi_obj.tracks:\n",
    "        for msg in track:\n",
    "            if msg.type == 'time_signature':\n",
    "                time_signatures.append(msg)\n",
    "    \n",
    "    return time_signatures\n",
    "                \n",
    "                \n",
    "def get_tempos(midi_obj) -> list:\n",
    "    tempos = []\n",
    "    for track in midi_obj.tracks:\n",
    "        for msg in track:\n",
    "            if msg.type == 'set_tempo':\n",
    "                tempos.append(msg)\n",
    "    \n",
    "    return tempos"
   ]
  },
  {
   "cell_type": "code",
   "execution_count": 73,
   "metadata": {},
   "outputs": [
    {
     "data": {
      "text/plain": [
       "([MetaMessage('time_signature', numerator=4, denominator=4, clocks_per_click=24, notated_32nd_notes_per_beat=8, time=0)],\n",
       " [MetaMessage('set_tempo', tempo=631577, time=0)])"
      ]
     },
     "execution_count": 73,
     "metadata": {},
     "output_type": "execute_result"
    }
   ],
   "source": [
    "time_signatures = get_time_signatures(mid)\n",
    "tempos = get_tempos(mid)\n",
    "time_signatures, tempos"
   ]
  },
  {
   "cell_type": "markdown",
   "metadata": {},
   "source": [
    "### Calculate the length of a measure in ticks:\n",
    "The length of a measure depends on the time signature and tempo. For simplicity, let's assume a constant time signature and tempo throughout the file. (Handling changes would require a more complex approach)."
   ]
  },
  {
   "cell_type": "code",
   "execution_count": 74,
   "metadata": {},
   "outputs": [],
   "source": [
    "def get_measures(midi_obj) -> list:\n",
    "    time_signatures = get_time_signatures(midi_obj)\n",
    "    tempos = get_tempos(midi_obj)\n",
    "    \n",
    "    if time_signatures:\n",
    "        time_signature = time_signatures[0]\n",
    "        numerator = time_signature.numerator\n",
    "        denominator = time_signature.denominator\n",
    "    else:\n",
    "        numerator = 4  # default to 4/4 time\n",
    "        denominator = 4\n",
    "\n",
    "    if tempos:\n",
    "        tempo = tempos[0].tempo\n",
    "    else:\n",
    "        tempo = 500000  # default to 120 BPM\n",
    "\n",
    "    ticks_per_beat = midi_obj.ticks_per_beat\n",
    "    ticks_per_measure = (ticks_per_beat * 4 * numerator) / denominator\n",
    "    \n",
    "    current_ticks = 0\n",
    "    current_measure = []\n",
    "    measures = []\n",
    "\n",
    "    for track in mid.tracks:\n",
    "        for msg in track:\n",
    "            current_ticks += msg.time\n",
    "            current_measure.append(msg)\n",
    "            if current_ticks >= ticks_per_measure:\n",
    "                measures.append(current_measure)\n",
    "                current_measure = []\n",
    "                current_ticks = 0\n",
    "\n",
    "    # Handle the last measure if it contains any messages\n",
    "    if current_measure:\n",
    "        measures.append(current_measure)\n",
    "        \n",
    "    return measures"
   ]
  },
  {
   "cell_type": "code",
   "execution_count": 66,
   "metadata": {},
   "outputs": [],
   "source": [
    "measures = get_measures(mid)\n",
    "measures"
   ]
  },
  {
   "cell_type": "markdown",
   "metadata": {},
   "source": [
    "### Separate events into measures:\n",
    "You can then separate the events into measures based on the calculated ticks per measure."
   ]
  },
  {
   "cell_type": "code",
   "execution_count": 39,
   "metadata": {},
   "outputs": [
    {
     "data": {
      "text/plain": [
       "[Message('note_on', channel=0, note=60, velocity=77, time=0),\n",
       " Message('note_on', channel=0, note=52, velocity=63, time=0),\n",
       " Message('note_on', channel=0, note=48, velocity=64, time=0),\n",
       " Message('note_on', channel=0, note=60, velocity=83, time=12),\n",
       " Message('note_on', channel=0, note=67, velocity=90, time=12),\n",
       " Message('note_on', channel=0, note=60, velocity=77, time=0),\n",
       " Message('note_on', channel=0, note=48, velocity=71, time=0),\n",
       " Message('note_on', channel=0, note=67, velocity=87, time=12),\n",
       " Message('note_on', channel=0, note=69, velocity=86, time=12)]"
      ]
     },
     "execution_count": 39,
     "metadata": {},
     "output_type": "execute_result"
    }
   ],
   "source": [
    "measure0 = [m for m in measures[0] if m.type=='note_on']\n",
    "measure0"
   ]
  },
  {
   "cell_type": "code",
   "execution_count": 40,
   "metadata": {},
   "outputs": [
    {
     "data": {
      "text/plain": [
       "[0, 0, 0, 12, 12, 0, 0, 12, 12]"
      ]
     },
     "execution_count": 40,
     "metadata": {},
     "output_type": "execute_result"
    }
   ],
   "source": [
    "measure0_time = [t.time for t in measure0]\n",
    "measure0_time"
   ]
  },
  {
   "cell_type": "markdown",
   "metadata": {},
   "source": [
    "### Save each measure as a separate MIDI file:\n",
    "Finally, you can save each measure into a separate MIDI file."
   ]
  },
  {
   "cell_type": "code",
   "execution_count": null,
   "metadata": {},
   "outputs": [],
   "source": [
    "for i, measure in enumerate(measures):\n",
    "    new_mid = mido.MidiFile()\n",
    "    new_track = mido.MidiTrack()\n",
    "    new_mid.tracks.append(new_track)\n",
    "    new_track.extend(measure)\n",
    "    new_mid.save(f'measure_{i + 1}.mid')"
   ]
  }
 ],
 "metadata": {
  "kernelspec": {
   "display_name": "Python 3",
   "language": "python",
   "name": "python3"
  },
  "language_info": {
   "codemirror_mode": {
    "name": "ipython",
    "version": 3
   },
   "file_extension": ".py",
   "mimetype": "text/x-python",
   "name": "python",
   "nbconvert_exporter": "python",
   "pygments_lexer": "ipython3",
   "version": "3.11.5"
  }
 },
 "nbformat": 4,
 "nbformat_minor": 2
}
